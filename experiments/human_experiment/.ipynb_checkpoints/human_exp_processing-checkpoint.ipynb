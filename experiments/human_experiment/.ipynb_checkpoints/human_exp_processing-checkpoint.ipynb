{
 "cells": [
  {
   "cell_type": "code",
   "execution_count": null,
   "metadata": {},
   "outputs": [],
   "source": [
    "import numpy as np\n",
    "import pandas as pd\n",
    "import pickle\n",
    "import matplotlib.pyplot as plt\n",
    "import seaborn as sns"
   ]
  },
  {
   "cell_type": "code",
   "execution_count": null,
   "metadata": {},
   "outputs": [],
   "source": [
    "dp = pickle.load(open(\"andy-lander-dempref_db.pickle\", 'rb'), encoding='bytes')\n",
    "nondp = pickle.load(open(\"andy-lander-nondempref_db.pickle\", 'rb'), encoding='bytes')"
   ]
  },
  {
   "cell_type": "code",
   "execution_count": null,
   "metadata": {},
   "outputs": [],
   "source": [
    "mean_dp = dp[dp.type=='mean']\n",
    "mean_nondp = nondp[nondp.type=='mean']\n",
    "print(mean_dp['value'][30])\n",
    "print(mean_nondp['value'][30])"
   ]
  },
  {
   "cell_type": "code",
   "execution_count": null,
   "metadata": {},
   "outputs": [],
   "source": [
    "var_dp = dp[dp.type=='var']\n",
    "nonvar_dp = nondp[nondp.type=='var']\n",
    "vdp = [sum(v) for v in list(var_dp['value'])]\n",
    "ndp = [sum(v) for v in list(nonvar_dp['value'])]"
   ]
  },
  {
   "cell_type": "code",
   "execution_count": null,
   "metadata": {},
   "outputs": [],
   "source": [
    "plt.plot(range(51), vdp, label=\"dempref\")\n",
    "plt.plot(range(51), ndp, label=\"non-dempref\")\n",
    "plt.title(\"Variance of estimate of reward function\")\n",
    "plt.legend()"
   ]
  },
  {
   "cell_type": "code",
   "execution_count": null,
   "metadata": {},
   "outputs": [],
   "source": []
  }
 ],
 "metadata": {
  "kernelspec": {
   "display_name": "Python 3",
   "language": "python",
   "name": "python3"
  },
  "language_info": {
   "codemirror_mode": {
    "name": "ipython",
    "version": 3
   },
   "file_extension": ".py",
   "mimetype": "text/x-python",
   "name": "python",
   "nbconvert_exporter": "python",
   "pygments_lexer": "ipython3",
   "version": "3.6.5"
  }
 },
 "nbformat": 4,
 "nbformat_minor": 2
}
